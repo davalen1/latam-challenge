{
 "cells": [
  {
   "cell_type": "markdown",
   "metadata": {},
   "source": [
    "En este archivo se prueba el desempeño de las funciones."
   ]
  },
  {
   "cell_type": "markdown",
   "metadata": {},
   "source": [
    "# Registro de File Path"
   ]
  },
  {
   "cell_type": "code",
   "execution_count": 1,
   "metadata": {},
   "outputs": [],
   "source": [
    "file_path = \"farmers-protest-tweets-2021-2-4.json\""
   ]
  },
  {
   "cell_type": "markdown",
   "metadata": {},
   "source": [
    "# AWS S3"
   ]
  },
  {
   "cell_type": "code",
   "execution_count": 5,
   "metadata": {},
   "outputs": [],
   "source": [
    "import os\n",
    "import json\n",
    "\n",
    "with open('config.json') as config_file:\n",
    "    config = json.load(config_file)\n",
    "    aws_access_key_id = config['AWS_ACCESS_KEY_ID']\n",
    "    aws_secret_access_key = config['AWS_SECRET_ACCESS_KEY']\n",
    "\n",
    "os.environ['AWS_ACCESS_KEY_ID'] = aws_access_key_id\n",
    "os.environ['AWS_SECRET_ACCESS_KEY'] = aws_secret_access_key"
   ]
  },
  {
   "cell_type": "markdown",
   "metadata": {},
   "source": [
    "# Funciones"
   ]
  },
  {
   "cell_type": "markdown",
   "metadata": {},
   "source": [
    "## Q1"
   ]
  },
  {
   "cell_type": "markdown",
   "metadata": {},
   "source": [
    "Dentro de las funciones, se consideró lógica para evitar empates en el ordenamiento, ya que un orden normal arrojó resultados distintos producto de la forma de procesamiento"
   ]
  },
  {
   "cell_type": "code",
   "execution_count": 5,
   "metadata": {},
   "outputs": [
    {
     "name": "stdout",
     "output_type": "stream",
     "text": [
      "Corriendo q1_time...\n",
      "Resultado optimizado para tiempo: [(datetime.date(2021, 2, 19), 'Preetm91'), (datetime.date(2021, 2, 18), 'neetuanjle_nitu'), (datetime.date(2021, 2, 17), 'RaaJVinderkaur'), (datetime.date(2021, 2, 13), 'MaanDee08215437'), (datetime.date(2021, 2, 12), 'RanbirS00614606'), (datetime.date(2021, 2, 21), 'Surrypuria'), (datetime.date(2021, 2, 23), 'Surrypuria'), (datetime.date(2021, 2, 15), 'jot__b'), (datetime.date(2021, 2, 16), 'jot__b'), (datetime.date(2021, 2, 14), 'rebelpacifist')]\n"
     ]
    }
   ],
   "source": [
    "from q1_time import q1_time\n",
    "\n",
    "print(\"Corriendo q1_time...\")\n",
    "time_result = q1_time(file_path)\n",
    "print(\"Resultado optimizado para tiempo:\", time_result)"
   ]
  },
  {
   "cell_type": "code",
   "execution_count": null,
   "metadata": {},
   "outputs": [],
   "source": [
    "from q1_memory import q1_memory\n",
    "\n",
    "print(\"Corriendo q1_memory...\")\n",
    "memory_result = q1_memory(file_path)\n",
    "print(\"Resultado optimizado para memoria:\", memory_result)\n",
    "    \n",
    "print(\"Comparando resultados...\")\n",
    "if time_result == memory_result:\n",
    "    print(\"Los resultados coinciden!\")\n",
    "else:\n",
    "    print(\"Los resultados no coinciden.\")\n",
    "    print(\"Resultado optimizado para tiempo:\", time_result)\n",
    "    print(\"resultado optimizado para memoria:\", memory_result)"
   ]
  },
  {
   "cell_type": "markdown",
   "metadata": {},
   "source": [
    "## Q2"
   ]
  },
  {
   "cell_type": "markdown",
   "metadata": {},
   "source": [
    "En estas funciones no se consideró el trabajo para evitar empates, ya que el ordenamiento simple arrojó los mismos resultados y se asumió que las funciones deberían tomar el menor tiempo y memoria posible en su ejecución."
   ]
  },
  {
   "cell_type": "code",
   "execution_count": null,
   "metadata": {},
   "outputs": [],
   "source": [
    "from q2_time import q2_time\n",
    "\n",
    "print(\"Corriendo q2_time...\")\n",
    "time_result = q2_time(file_path)\n",
    "print(\"Resultado optimizado para tiempo:\", time_result)"
   ]
  },
  {
   "cell_type": "code",
   "execution_count": null,
   "metadata": {},
   "outputs": [],
   "source": [
    "from q2_memory import q2_memory\n",
    "    \n",
    "print(\"Corriendo q2_memory...\")\n",
    "memory_result = q2_memory(file_path)\n",
    "print(\"Resultado optimizado para memoria:\", memory_result)"
   ]
  },
  {
   "cell_type": "markdown",
   "metadata": {},
   "source": [
    "## Q3"
   ]
  },
  {
   "cell_type": "markdown",
   "metadata": {},
   "source": [
    "En estas funciones no se consideró el trabajo para evitar empates, ya que el ordenamiento simple arrojó los mismos resultados y se asumió que las funciones deberían tomar el menor tiempo y memoria posible en su ejecución."
   ]
  },
  {
   "cell_type": "code",
   "execution_count": null,
   "metadata": {},
   "outputs": [],
   "source": [
    "from q3_time import q3_time\n",
    "    \n",
    "print(\"Corriendo q3_time...\")\n",
    "result_time = q3_time(file_path)\n",
    "print(\"Resultado optimizado para tiempo:\", result_time)"
   ]
  },
  {
   "cell_type": "code",
   "execution_count": null,
   "metadata": {},
   "outputs": [],
   "source": [
    "from q3_memory import q3_memory\n",
    "    \n",
    "print(\"Corriendo q3_memory...\")\n",
    "result_memory = q3_memory(file_path)\n",
    "print(\"Resultado optimizado para memoria:\", result_memory)"
   ]
  }
 ],
 "metadata": {
  "kernelspec": {
   "display_name": "Python 3",
   "language": "python",
   "name": "python3"
  },
  "language_info": {
   "codemirror_mode": {
    "name": "ipython",
    "version": 3
   },
   "file_extension": ".py",
   "mimetype": "text/x-python",
   "name": "python",
   "nbconvert_exporter": "python",
   "pygments_lexer": "ipython3",
   "version": "3.12.1"
  },
  "orig_nbformat": 4
 },
 "nbformat": 4,
 "nbformat_minor": 2
}
